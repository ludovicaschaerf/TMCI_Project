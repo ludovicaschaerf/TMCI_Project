{
 "cells": [
  {
   "cell_type": "markdown",
   "metadata": {},
   "source": [
    "# Project Pipeline"
   ]
  },
  {
   "cell_type": "markdown",
   "metadata": {},
   "source": [
    "Lucovica Schaerf, Antònio Mendes, Jaël Kortekaas"
   ]
  },
  {
   "cell_type": "markdown",
   "metadata": {},
   "source": [
    "Large part of our code is used from: https://www.machinelearningplus.com/nlp/topic-modeling-gensim-python/"
   ]
  },
  {
   "cell_type": "markdown",
   "metadata": {},
   "source": [
    "## Introduction"
   ]
  },
  {
   "cell_type": "markdown",
   "metadata": {},
   "source": [
    "This file contains the the preprocessing pipeline to our project. \n",
    "As a first step we are importing the data and filtering out all the songs that\n",
    "we don't need for our analysis. Secondly, we will implement the 'standard' \n",
    "pipeline and, once we obtain the most common words per each album, author, year\n",
    "(...) we will move to another file to do the clustering and topic analysis."
   ]
  },
  {
   "cell_type": "markdown",
   "metadata": {},
   "source": [
    "## Import"
   ]
  },
  {
   "cell_type": "code",
   "execution_count": 2,
   "metadata": {},
   "outputs": [],
   "source": [
    "from pathlib import Path\n",
    "import numpy as np\n",
    "import pandas as pd\n",
    "\n",
    "from nltk.corpus import stopwords\n",
    "from nltk.tokenize import word_tokenize\n",
    "from nltk.stem import WordNetLemmatizer \n",
    "from nltk.collocations import *\n",
    "from nltk.collocations import BigramAssocMeasures\n",
    "import nltk\n",
    "import re\n",
    "import string\n",
    "import gensim\n",
    "import spacy\n",
    "import itertools\n",
    "\n",
    "from gensim import corpora, models\n",
    "from nltk.corpus import wordnet as wn\n",
    "from operator import itemgetter\n",
    "\n",
    "import matplotlib.pyplot as plt\n",
    "\n",
    "plot_dir = Path(\"./figures\")\n",
    "data_dir = Path(\"./data\")"
   ]
  },
  {
   "cell_type": "code",
   "execution_count": 4,
   "metadata": {},
   "outputs": [
    {
     "name": "stdout",
     "output_type": "stream",
     "text": [
      "Index(['index', 'song', 'year', 'artist', 'genre', 'lyrics'], dtype='object')\n"
     ]
    }
   ],
   "source": [
    "songs = []\n",
    "\n",
    "with open('./data/lyrics.csv', 'r', encoding=\"utf-8\") as infile:\n",
    "    songs = pd.read_csv(infile)\n",
    "    \n",
    "print(songs.columns)"
   ]
  },
  {
   "cell_type": "code",
   "execution_count": 5,
   "metadata": {},
   "outputs": [
    {
     "data": {
      "text/html": [
       "<div>\n",
       "<style scoped>\n",
       "    .dataframe tbody tr th:only-of-type {\n",
       "        vertical-align: middle;\n",
       "    }\n",
       "\n",
       "    .dataframe tbody tr th {\n",
       "        vertical-align: top;\n",
       "    }\n",
       "\n",
       "    .dataframe thead th {\n",
       "        text-align: right;\n",
       "    }\n",
       "</style>\n",
       "<table border=\"1\" class=\"dataframe\">\n",
       "  <thead>\n",
       "    <tr style=\"text-align: right;\">\n",
       "      <th></th>\n",
       "      <th>index</th>\n",
       "      <th>song</th>\n",
       "      <th>year</th>\n",
       "      <th>artist</th>\n",
       "      <th>genre</th>\n",
       "      <th>lyrics</th>\n",
       "    </tr>\n",
       "  </thead>\n",
       "  <tbody>\n",
       "    <tr>\n",
       "      <th>116793</th>\n",
       "      <td>116793</td>\n",
       "      <td>if-i-m-dreaming-my-life</td>\n",
       "      <td>2009</td>\n",
       "      <td>david-bowie</td>\n",
       "      <td>Rock</td>\n",
       "      <td>VERSE (there)\\nWas she never there/here?\\nWas ...</td>\n",
       "    </tr>\n",
       "    <tr>\n",
       "      <th>116794</th>\n",
       "      <td>116794</td>\n",
       "      <td>seven</td>\n",
       "      <td>2009</td>\n",
       "      <td>david-bowie</td>\n",
       "      <td>Rock</td>\n",
       "      <td>I forgot what my father said\\nI forgot what he...</td>\n",
       "    </tr>\n",
       "    <tr>\n",
       "      <th>116795</th>\n",
       "      <td>116795</td>\n",
       "      <td>i-can-t-read</td>\n",
       "      <td>2009</td>\n",
       "      <td>david-bowie</td>\n",
       "      <td>Rock</td>\n",
       "      <td>I can't read and I can't write down\\nI don't k...</td>\n",
       "    </tr>\n",
       "    <tr>\n",
       "      <th>116796</th>\n",
       "      <td>116796</td>\n",
       "      <td>thursday-s-child</td>\n",
       "      <td>2009</td>\n",
       "      <td>david-bowie</td>\n",
       "      <td>Rock</td>\n",
       "      <td>All of my life I've tried so hard\\nDoing my be...</td>\n",
       "    </tr>\n",
       "    <tr>\n",
       "      <th>116797</th>\n",
       "      <td>116797</td>\n",
       "      <td>survive</td>\n",
       "      <td>2009</td>\n",
       "      <td>david-bowie</td>\n",
       "      <td>Rock</td>\n",
       "      <td>Oh, my\\nNaked eyes\\nI should have kept you\\nI ...</td>\n",
       "    </tr>\n",
       "    <tr>\n",
       "      <th>...</th>\n",
       "      <td>...</td>\n",
       "      <td>...</td>\n",
       "      <td>...</td>\n",
       "      <td>...</td>\n",
       "      <td>...</td>\n",
       "      <td>...</td>\n",
       "    </tr>\n",
       "    <tr>\n",
       "      <th>67509</th>\n",
       "      <td>67509</td>\n",
       "      <td>child-in-time</td>\n",
       "      <td>1972</td>\n",
       "      <td>deep-purple</td>\n",
       "      <td>Rock</td>\n",
       "      <td>Sweet child in time\\nYou'll see the line\\nThe ...</td>\n",
       "    </tr>\n",
       "    <tr>\n",
       "      <th>67510</th>\n",
       "      <td>67510</td>\n",
       "      <td>deep-purple-overture</td>\n",
       "      <td>2015</td>\n",
       "      <td>deep-purple</td>\n",
       "      <td>Rock</td>\n",
       "      <td>Good golly, said little miss molly\\nWhen she w...</td>\n",
       "    </tr>\n",
       "    <tr>\n",
       "      <th>67517</th>\n",
       "      <td>67517</td>\n",
       "      <td>paint-it-black</td>\n",
       "      <td>2015</td>\n",
       "      <td>deep-purple</td>\n",
       "      <td>Rock</td>\n",
       "      <td>I see a red door and I want it painted black,\\...</td>\n",
       "    </tr>\n",
       "    <tr>\n",
       "      <th>67523</th>\n",
       "      <td>67523</td>\n",
       "      <td>anyone-s-daughter</td>\n",
       "      <td>2014</td>\n",
       "      <td>deep-purple</td>\n",
       "      <td>Rock</td>\n",
       "      <td>Well, I stood under your bedroom window, throw...</td>\n",
       "    </tr>\n",
       "    <tr>\n",
       "      <th>67524</th>\n",
       "      <td>67524</td>\n",
       "      <td>perfect-strangers</td>\n",
       "      <td>2014</td>\n",
       "      <td>deep-purple</td>\n",
       "      <td>Rock</td>\n",
       "      <td>Can you remember remember my name\\nAs I flow t...</td>\n",
       "    </tr>\n",
       "  </tbody>\n",
       "</table>\n",
       "<p>1551 rows × 6 columns</p>\n",
       "</div>"
      ],
      "text/plain": [
       "         index                     song  year       artist genre  \\\n",
       "116793  116793  if-i-m-dreaming-my-life  2009  david-bowie  Rock   \n",
       "116794  116794                    seven  2009  david-bowie  Rock   \n",
       "116795  116795             i-can-t-read  2009  david-bowie  Rock   \n",
       "116796  116796         thursday-s-child  2009  david-bowie  Rock   \n",
       "116797  116797                  survive  2009  david-bowie  Rock   \n",
       "...        ...                      ...   ...          ...   ...   \n",
       "67509    67509            child-in-time  1972  deep-purple  Rock   \n",
       "67510    67510     deep-purple-overture  2015  deep-purple  Rock   \n",
       "67517    67517           paint-it-black  2015  deep-purple  Rock   \n",
       "67523    67523        anyone-s-daughter  2014  deep-purple  Rock   \n",
       "67524    67524        perfect-strangers  2014  deep-purple  Rock   \n",
       "\n",
       "                                                   lyrics  \n",
       "116793  VERSE (there)\\nWas she never there/here?\\nWas ...  \n",
       "116794  I forgot what my father said\\nI forgot what he...  \n",
       "116795  I can't read and I can't write down\\nI don't k...  \n",
       "116796  All of my life I've tried so hard\\nDoing my be...  \n",
       "116797  Oh, my\\nNaked eyes\\nI should have kept you\\nI ...  \n",
       "...                                                   ...  \n",
       "67509   Sweet child in time\\nYou'll see the line\\nThe ...  \n",
       "67510   Good golly, said little miss molly\\nWhen she w...  \n",
       "67517   I see a red door and I want it painted black,\\...  \n",
       "67523   Well, I stood under your bedroom window, throw...  \n",
       "67524   Can you remember remember my name\\nAs I flow t...  \n",
       "\n",
       "[1551 rows x 6 columns]"
      ]
     },
     "execution_count": 5,
     "metadata": {},
     "output_type": "execute_result"
    }
   ],
   "source": [
    "artists = ['bruce-springsteen', 'elliot-smith', 'black-sabbath', 'deep-purple', 'david-bowie']\n",
    "\n",
    "david_bowie = songs[songs[u'artist'] == 'david-bowie']\n",
    "black_sabbath = songs[songs[u'artist'] == 'black-sabbath']\n",
    "bruce_springsteen = songs[songs[u'artist'] == 'bruce-springsteen']\n",
    "elliot_smith = songs[songs[u'artist'] == 'elliot-smith']\n",
    "deep_purple = songs[songs[u'artist'] == 'deep-purple']\n",
    "\n",
    "lyrics = pd.concat([david_bowie, black_sabbath, bruce_springsteen, elliot_smith, deep_purple], axis=0)\n",
    "lyrics = lyrics.dropna()\n",
    "lyrics"
   ]
  },
  {
   "cell_type": "markdown",
   "metadata": {},
   "source": [
    "## Processing Pipeline"
   ]
  },
  {
   "cell_type": "code",
   "execution_count": 6,
   "metadata": {},
   "outputs": [],
   "source": [
    "stop_words = stopwords.words('english')\n",
    "stop_words.extend(['oh', 'yeah', 'hey', 'doo', 'oo', 'uh', 'la', 'verse', 'chorus', 'bridge', 'x2', \"'m\", 'da', 'ooh', 'aaaahh', 'ooo', 'duh', 'whop', 'u', 'ah', 'na', 'whoa', 'ai', \"n't\", 'wa', 'gon', \"'ll\", 'gon', \"'d\", \"'re\", \"'ve\", \"'em\", \"'\", 'ca', 'ha', 'wo', 'wir', 'wan', 'doe', 'well', 'sha', 'ya', 'ta', \"'cause\", \"`\"]) # filter out common meaningless words/sounds and words describing song structure"
   ]
  },
  {
   "cell_type": "markdown",
   "metadata": {},
   "source": [
    "The preprocessing pipeline we decided to implement includes the following steps:\n",
    "- filtering out stopwords, puntuation, sounds typical from songs\n",
    "- lemmatizing\n",
    "- adding the most common bigrams"
   ]
  },
  {
   "cell_type": "code",
   "execution_count": 8,
   "metadata": {
    "scrolled": true
   },
   "outputs": [
    {
     "data": {
      "text/plain": [
       "['never',\n",
       " 'there/here',\n",
       " 'ever',\n",
       " 'air',\n",
       " 'breathed',\n",
       " 'wrong',\n",
       " 'time',\n",
       " 'ohoh',\n",
       " 'ohoh',\n",
       " 'flower',\n",
       " 'gallery',\n",
       " 'hymn',\n",
       " 'night',\n",
       " 'singing',\n",
       " 'come',\n",
       " 'wrong',\n",
       " 'time',\n",
       " 'wrong',\n",
       " 'day',\n",
       " 'light',\n",
       " 'fading',\n",
       " 'dreaming',\n",
       " 'life',\n",
       " 'second',\n",
       " 'time',\n",
       " 'one',\n",
       " 'living',\n",
       " 'chance',\n",
       " 'mother',\n",
       " 'sigh',\n",
       " 'father',\n",
       " 'step',\n",
       " 'aside',\n",
       " 'wrong',\n",
       " 'time',\n",
       " 'ohoh',\n",
       " 'ever',\n",
       " 'ever',\n",
       " 'dreaming',\n",
       " 'life',\n",
       " 'dreaming',\n",
       " 'life',\n",
       " 'away',\n",
       " 'dreaming',\n",
       " 'life',\n",
       " 'dreaming',\n",
       " 'dreaming',\n",
       " 'dreaming',\n",
       " 'dreaming',\n",
       " 'life',\n",
       " 'dreaming',\n",
       " 'life',\n",
       " 'away',\n",
       " 'ohoh',\n",
       " 'repeat',\n",
       " 'dreaming',\n",
       " 'life',\n",
       " 'dreaming',\n",
       " 'dreaming',\n",
       " 'life',\n",
       " 'away',\n",
       " 'ohoh',\n",
       " 'are_fading',\n",
       " 'come_to',\n",
       " 'fading_now',\n",
       " 'father_step',\n",
       " 'flower_so',\n",
       " 'gallery_with',\n",
       " 'hymn_of',\n",
       " 'it_air',\n",
       " 'just_one',\n",
       " 'light_are',\n",
       " 'living_chance',\n",
       " 'mother_sigh',\n",
       " 'never_there/here',\n",
       " 'night_singing',\n",
       " 'of_night',\n",
       " 'one_living',\n",
       " 'singing_come',\n",
       " 'so_from',\n",
       " 'step_aside',\n",
       " 'to_me']"
      ]
     },
     "execution_count": 8,
     "metadata": {},
     "output_type": "execute_result"
    }
   ],
   "source": [
    "wnl = WordNetLemmatizer()\n",
    "bigram_measures = BigramAssocMeasures()\n",
    "\n",
    "def convertTuple(tup): \n",
    "    str =  '_'.join(tup) \n",
    "    return str\n",
    "  \n",
    "def simple_preprocess(lyrics, allowed_postags=['NOUN', 'ADJ', 'VERB', 'ADV']):\n",
    "    lyricslist = [re.sub('\\-', '', str(lyric)) for lyric in lyrics['lyrics'].tolist()] # take out all hyphens that often connect meaningless words/sounds to these stopwords can be filtered out later\n",
    "    lyricslist = [re.sub('[\\.\\,\\?,\\!,\\(,\\),\\:,\\\",\\[,\\]]', '', str(lyric)) for lyric in lyricslist] # take out all punctuation\n",
    "    lyricslist = [word_tokenize(lyric.lower()) for lyric in lyricslist]\n",
    "    finder = []\n",
    "    for i,lyric in enumerate(lyricslist):\n",
    "        for j,token in enumerate(lyric):\n",
    "            lyricslist[i][j] = wnl.lemmatize(str(token))\n",
    "        lyricslist[i] = [word for word in lyric if word not in stop_words]\n",
    "        finder.append(BigramCollocationFinder.from_words(lyric))\n",
    "        finder[i] = finder[i].nbest(bigram_measures.pmi, 20)\n",
    "        finder[i] = [convertTuple(x) for x in finder[i]] #need to append the two words back together\n",
    "        lyricslist[i] = lyricslist[i] + finder[i]\n",
    "    lyrics['bag_of_words'] = lyricslist\n",
    "\n",
    "\n",
    "simple_preprocess(lyrics)\n",
    "example = lyrics['bag_of_words'][116793]\n",
    "example"
   ]
  },
  {
   "cell_type": "code",
   "execution_count": 9,
   "metadata": {},
   "outputs": [
    {
     "name": "stdout",
     "output_type": "stream",
     "text": [
      "Number of unique tokens: 31161\n"
     ]
    }
   ],
   "source": [
    "#count how many times a word appears --> give a document\n",
    "#lyrics['bag_of_words']\n",
    "\n",
    "list_BOWlyrics = [[]]\n",
    "for lyric in lyrics['bag_of_words']:\n",
    "    list_BOWlyrics += [lyric]\n",
    "\n",
    "lyrics_dictionary = corpora.Dictionary(list_BOWlyrics)\n",
    "print('Number of unique tokens:', len(lyrics_dictionary))"
   ]
  },
  {
   "cell_type": "code",
   "execution_count": 10,
   "metadata": {},
   "outputs": [
    {
     "name": "stdout",
     "output_type": "stream",
     "text": [
      "{'air': 0, 'are_fading': 1, 'aside': 2, 'away': 3, 'breathed': 4, 'chance': 5, 'come': 6, 'come_to': 7, 'day': 8, 'dreaming': 9, 'ever': 10, 'fading': 11}\n",
      "word with id 8: day\n",
      "frequency of token 8: 415\n"
     ]
    }
   ],
   "source": [
    "print(dict(itertools.islice(lyrics_dictionary.token2id.items(), 12)))\n",
    "print(\"word with id 8:\", lyrics_dictionary[8])\n",
    "print(\"frequency of token 8:\", lyrics_dictionary.dfs[8])"
   ]
  },
  {
   "cell_type": "code",
   "execution_count": 11,
   "metadata": {},
   "outputs": [
    {
     "name": "stdout",
     "output_type": "stream",
     "text": [
      "Number of unique tokens: 10555\n"
     ]
    }
   ],
   "source": [
    "# Filter out words that occur in less than 5 documents, or more than 70% of the documents.\n",
    "lyrics_dictionary.filter_extremes(no_below=2, no_above=0.3)\n",
    "print('Number of unique tokens:', len(lyrics_dictionary))"
   ]
  },
  {
   "cell_type": "code",
   "execution_count": 12,
   "metadata": {},
   "outputs": [],
   "source": [
    "# Bag-of-words representation of the documents\n",
    "lyrics_bow_corpus = [lyrics_dictionary.doc2bow(d) for d in list_BOWlyrics]"
   ]
  },
  {
   "cell_type": "code",
   "execution_count": 13,
   "metadata": {},
   "outputs": [
    {
     "name": "stdout",
     "output_type": "stream",
     "text": [
      "[(0, 1), (1, 1), (2, 3), (3, 1), (4, 1), (5, 1), (6, 1), (7, 1), (8, 12), (9, 3), (10, 1), (11, 1), (12, 1), (13, 1), (14, 1), (15, 1), (16, 8), (17, 1), (18, 1), (19, 1), (20, 1), (21, 1), (22, 1), (23, 1), (24, 1), (25, 1), (26, 1), (27, 1), (28, 1), (29, 4)]\n"
     ]
    }
   ],
   "source": [
    "# the BOW representation of the first document\n",
    "print(lyrics_bow_corpus[1][:50])"
   ]
  },
  {
   "cell_type": "code",
   "execution_count": 14,
   "metadata": {},
   "outputs": [
    {
     "name": "stdout",
     "output_type": "stream",
     "text": [
      "dreaming --> 12\n",
      "life --> 8\n",
      "wrong --> 4\n",
      "away --> 3\n",
      "ever --> 3\n",
      "air --> 1\n",
      "aside --> 1\n",
      "breathed --> 1\n",
      "chance --> 1\n",
      "come --> 1\n",
      "come_to --> 1\n",
      "day --> 1\n",
      "fading --> 1\n",
      "father --> 1\n",
      "flower --> 1\n",
      "...\n"
     ]
    }
   ],
   "source": [
    "# which words (and how often) appear in the first document?\n",
    "for i, freq in sorted(lyrics_bow_corpus[1], key=itemgetter(1), reverse=True)[:15]:\n",
    "    print(lyrics_dictionary[i], \"-->\", freq)\n",
    "print(\"...\")"
   ]
  },
  {
   "cell_type": "code",
   "execution_count": 15,
   "metadata": {},
   "outputs": [],
   "source": [
    "lyrics_ldamodel = models.ldamodel.LdaModel(lyrics_bow_corpus, num_topics=10, id2word = lyrics_dictionary, passes=25)"
   ]
  },
  {
   "cell_type": "code",
   "execution_count": 16,
   "metadata": {
    "scrolled": false
   },
   "outputs": [
    {
     "name": "stdout",
     "output_type": "stream",
     "text": [
      "[(0, [('alright', 0.008891421), ('day', 0.008549823), ('thing', 0.008445723), ('give', 0.0065716226), ('heart', 0.0064894394), ('dream', 0.0062134387), ('sound', 0.006080811), ('man', 0.005587953), ('heaven', 0.0055202763), ('people', 0.004606981), ('come', 0.0045920755), ('look', 0.0045449208), ('take', 0.0044380687), ('outside', 0.004122472), ('yes', 0.003832805)]), (1, [('come', 0.022547755), ('long', 0.013315813), ('baby', 0.012959634), ('get', 0.012715065), ('way', 0.009299895), ('feel', 0.008986413), ('eye', 0.008932539), ('life', 0.007829906), ('see', 0.007812636), ('back', 0.0077801305), ('going', 0.007154754), ('take', 0.006963926), ('fire', 0.0066128527), ('think', 0.006612066), ('go', 0.0064529716)]), (2, [('heart', 0.015091288), ('little', 0.011762562), ('mary', 0.009911302), ('everything', 0.008017945), ('keep', 0.007322408), ('five', 0.007001707), ('eye', 0.006662489), ('weep', 0.0062698885), ('jesse', 0.0062125), ('baby', 0.0055248523), ('never', 0.005394956), ('good', 0.004907689), ('could', 0.0045341593), ('aahh', 0.004453861), ('must', 0.00434133)]), (3, [('dance', 0.01827352), ('take', 0.0124518825), ('baby', 0.012113754), ('tonight', 0.010713939), ('boy', 0.010290742), ('street', 0.009316058), ('magic', 0.009113463), ('let', 0.009096411), ('go', 0.007098114), ('fame', 0.006876835), ('world', 0.0067440267), ('train', 0.006525793), ('get', 0.006331253), ('thing', 0.006209691), ('right', 0.005979162)]), (4, [('baby', 0.019868167), ('town', 0.008068673), ('ho', 0.0077026724), ('better', 0.0075701876), ('somebody', 0.0075171245), ('heart', 0.007272702), ('never', 0.006939798), ('fun', 0.0065238746), ('go', 0.006232911), ('young', 0.0061796247), ('come', 0.0057193353), ('eye', 0.005334808), ('little', 0.0052156807), ('coming', 0.0050264928), ('good', 0.004912731)]), (5, [('say', 0.014095535), ('want', 0.012596795), ('never', 0.010473959), ('girl', 0.010183915), ('little', 0.008359103), ('get', 0.007947577), ('away', 0.0067343283), ('come', 0.00654456), ('see', 0.0065155197), ('go', 0.0063416846), ('ever', 0.006313783), ('tell', 0.00622456), ('could', 0.0061915535), ('man', 0.005914227), ('said', 0.005820106)]), (6, [('back', 0.014317333), ('make', 0.010746487), ('let', 0.009859719), ('never', 0.009700273), ('angel', 0.008630417), ('way', 0.0085433815), ('home', 0.008432254), ('thing', 0.007883588), ('alone', 0.007745193), ('feel', 0.007322497), ('place', 0.006987812), ('give', 0.006754717), ('rain', 0.0067540645), ('day', 0.006151316), ('life', 0.006006573)]), (7, [('eye', 0.009446337), ('away', 0.00894996), ('god', 0.008632112), ('see', 0.007543461), ('day', 0.0074743615), ('life', 0.00596653), ('gone', 0.005700863), ('sky', 0.0057004043), ('die', 0.00525918), ('dream', 0.0050617177), ('world', 0.0049484596), ('run', 0.004913632), ('come', 0.004752802), ('saw', 0.004708051), ('dead', 0.0046809893)]), (8, [('come', 0.013284016), ('see', 0.008933356), ('woman', 0.008419958), ('underground', 0.008214349), ('want', 0.007831113), ('turn', 0.0074949767), ('take', 0.0071553113), ('shake', 0.0069520213), ('go', 0.0067749796), ('need', 0.006432915), ('dancing', 0.006380781), ('daddy', 0.006041229), ('johnny', 0.005850017), ('get', 0.0058241114), ('rise', 0.0057346886)]), (9, [('man', 0.016274428), ('light', 0.0097594), ('day', 0.008186216), ('shot', 0.008174739), ('home', 0.008007836), ('hand', 0.007878451), ('bring', 0.0075342045), ('get', 0.0071383943), ('nothing', 0.006887286), ('could', 0.0066326694), ('raise', 0.0065507954), ('come', 0.0065039755), ('sex', 0.0064951107), ('may', 0.0059285387), ('church', 0.005801346)])]\n"
     ]
    }
   ],
   "source": [
    "# the setting formatted=False allows you to get rid of the word*probability format when retrieveing topics\n",
    "model1 = lyrics_ldamodel.show_topics(formatted=False, num_words=15)\n",
    "print(model1)"
   ]
  },
  {
   "cell_type": "code",
   "execution_count": 28,
   "metadata": {
    "scrolled": true
   },
   "outputs": [],
   "source": [
    "def filter_common_words_modelling(model):\n",
    "    for topic in model:\n",
    "        n1 = 1\n",
    "        while n1 in range(n1,10):\n",
    "            n2 = 0\n",
    "            for n2 in range(0,10):\n",
    "                n3 = 0\n",
    "                for n3 in range(0,10):\n",
    "                    if topic[1][n2][0] == model[n1][1][n3][0]:\n",
    "                        stop_words.extend([topic[1][n2][0]])\n",
    "            n1 += 1\n",
    "    simple_preprocess(lyrics)\n",
    "    list_BOWlyrics = [[]]\n",
    "    for lyric in lyrics['bag_of_words']:\n",
    "        list_BOWlyrics += [lyric]\n",
    "    lyrics_dictionary = corpora.Dictionary(list_BOWlyrics)\n",
    "    lyrics_dictionary.filter_extremes(no_below=2, no_above=0.3)\n",
    "    lyrics_bow_corpus = [lyrics_dictionary.doc2bow(d) for d in list_BOWlyrics]\n",
    "    lyrics_ldamodel = models.ldamodel.LdaModel(lyrics_bow_corpus, num_topics=10, id2word = lyrics_dictionary, passes=5)\n",
    "    return lyrics_ldamodel.show_topics(formatted=False, num_words=15)\n",
    "       \n",
    "def rerun_model(model, passes):\n",
    "    for i in range(0, passes):\n",
    "        model = filter_common_words_modelling(model)\n",
    "        i += 1\n",
    "    return model"
   ]
  },
  {
   "cell_type": "code",
   "execution_count": 29,
   "metadata": {},
   "outputs": [
    {
     "data": {
      "text/plain": [
       "[(0,\n",
       "  [('tom', 0.003795943),\n",
       "   ('major', 0.0035061112),\n",
       "   ('earth', 0.003136201),\n",
       "   ('sorrow', 0.0031239493),\n",
       "   ('beepbeep', 0.0030517878),\n",
       "   ('mother', 0.0028386158),\n",
       "   ('first', 0.0028161015),\n",
       "   ('sing', 0.002776177),\n",
       "   ('lady', 0.0027366271),\n",
       "   ('fine', 0.0026267173),\n",
       "   ('cat', 0.0025893121),\n",
       "   ('rest', 0.0025446622),\n",
       "   ('cool', 0.0025247028),\n",
       "   ('rising', 0.0025063478),\n",
       "   ('climbing', 0.0024856445)]),\n",
       " (1,\n",
       "  [('dig', 0.0040094587),\n",
       "   ('saturday', 0.0036957068),\n",
       "   ('fine', 0.003647319),\n",
       "   ('raw', 0.0033480925),\n",
       "   ('lust', 0.0031859118),\n",
       "   ('bed', 0.0030453908),\n",
       "   ('corner', 0.0029870726),\n",
       "   ('glory', 0.0028154093),\n",
       "   ('true', 0.0027680409),\n",
       "   ('drivein', 0.0027560298),\n",
       "   ('try', 0.0025515002),\n",
       "   ('steel', 0.0025429314),\n",
       "   ('full', 0.002540983),\n",
       "   ('orange', 0.002520528),\n",
       "   ('dying', 0.0024426787)]),\n",
       " (2,\n",
       "  [('stop', 0.0049789725),\n",
       "   ('kill', 0.0034269227),\n",
       "   ('move', 0.003412317),\n",
       "   ('house', 0.0032829395),\n",
       "   ('job', 0.003272831),\n",
       "   ('walking', 0.003076297),\n",
       "   ('car', 0.003058928),\n",
       "   ('across', 0.0030584722),\n",
       "   ('bright', 0.0028880811),\n",
       "   ('shut', 0.0028661045),\n",
       "   ('dreaming', 0.0028377392),\n",
       "   ('thunder', 0.0026773103),\n",
       "   ('crazy', 0.002667342),\n",
       "   ('went', 0.0026063034),\n",
       "   ('save', 0.002578794)]),\n",
       " (3,\n",
       "  [('cross', 0.0046248673),\n",
       "   ('sometimes', 0.0038889772),\n",
       "   ('doctor', 0.0034437198),\n",
       "   ('dirty', 0.0034120525),\n",
       "   ('hurt', 0.003256957),\n",
       "   ('everyone', 0.0032179784),\n",
       "   ('feeling', 0.003158385),\n",
       "   ('true', 0.0031474498),\n",
       "   (\"do_n't\", 0.0031135755),\n",
       "   ('uhhuh', 0.003107837),\n",
       "   ('dumb', 0.0030558656),\n",
       "   (\"n'roll\", 0.0030044115),\n",
       "   ('learn', 0.002872198),\n",
       "   ('poor', 0.0028283838),\n",
       "   ('de', 0.002609829)]),\n",
       " (4,\n",
       "  [('mr', 0.004088807),\n",
       "   ('devil', 0.003970243),\n",
       "   ('smile', 0.0038627372),\n",
       "   ('burning', 0.0036658943),\n",
       "   ('diamond', 0.0033290484),\n",
       "   ('darkness', 0.003248887),\n",
       "   ('pray', 0.002706431),\n",
       "   ('30', 0.0025704151),\n",
       "   ('ruin', 0.002553343),\n",
       "   ('went', 0.002543612),\n",
       "   ('remember', 0.0024774317),\n",
       "   ('getting', 0.0024664733),\n",
       "   ('tag', 0.00241822),\n",
       "   ('cadillac', 0.0023154959),\n",
       "   ('bit', 0.0022989323)]),\n",
       " (5,\n",
       "  [('maybe', 0.0063019427),\n",
       "   ('shall', 0.00565232),\n",
       "   ('prove', 0.00432022),\n",
       "   ('bless', 0.003985243),\n",
       "   ('loved', 0.00397749),\n",
       "   ('kind', 0.0039331396),\n",
       "   ('bang', 0.003609658),\n",
       "   ('near', 0.0035508745),\n",
       "   ('round', 0.0034793187),\n",
       "   ('send', 0.0033959656),\n",
       "   ('try', 0.0032148429),\n",
       "   ('linda', 0.0030285309),\n",
       "   ('mad', 0.0030041866),\n",
       "   ('dum', 0.002968263),\n",
       "   ('amsterdam', 0.0029323767)]),\n",
       " (6,\n",
       "  [('rose', 0.004681388),\n",
       "   ('son', 0.00414318),\n",
       "   ('lesson', 0.0039064237),\n",
       "   ('daughter', 0.0035866322),\n",
       "   ('hit', 0.00337901),\n",
       "   ('sane', 0.0031856322),\n",
       "   ('top', 0.0029880519),\n",
       "   ('woah', 0.0029040296),\n",
       "   ('told', 0.0028118712),\n",
       "   ('lay', 0.0028081117),\n",
       "   ('fine', 0.002767754),\n",
       "   ('bed', 0.0027303773),\n",
       "   ('lead', 0.0026940594),\n",
       "   ('tear', 0.0026699188),\n",
       "   ('scared', 0.0026464802)]),\n",
       " (7,\n",
       "  [('son', 0.004481049),\n",
       "   ('strength', 0.0037404674),\n",
       "   ('remember', 0.0030912668),\n",
       "   ('break', 0.0029561424),\n",
       "   ('answer', 0.0027778223),\n",
       "   ('taking', 0.0024058688),\n",
       "   ('darlin', 0.00234286),\n",
       "   ('mess', 0.0023366013),\n",
       "   ('freedom', 0.002304884),\n",
       "   ('giving', 0.002245571),\n",
       "   ('mother', 0.0022398008),\n",
       "   ('went', 0.002223363),\n",
       "   ('rockin', 0.00221644),\n",
       "   ('sam', 0.0021882989),\n",
       "   ('brave', 0.0021825118)]),\n",
       " (8,\n",
       "  [('flying', 0.0038673205),\n",
       "   ('start', 0.0038462868),\n",
       "   ('feeling', 0.0035605878),\n",
       "   ('gon_na', 0.0034020608),\n",
       "   ('janey', 0.003122437),\n",
       "   ('told', 0.0031084686),\n",
       "   ('round', 0.0029275867),\n",
       "   ('jane', 0.0029059744),\n",
       "   ('lady', 0.002844449),\n",
       "   ('golden', 0.0026189513),\n",
       "   ('gold', 0.0024424521),\n",
       "   ('lucky', 0.0024148757),\n",
       "   ('style', 0.002404278),\n",
       "   ('sway', 0.0023840899),\n",
       "   ('hide', 0.002333827)]),\n",
       " (9,\n",
       "  [('beat', 0.005250073),\n",
       "   ('part', 0.0042067147),\n",
       "   ('remember', 0.0036001839),\n",
       "   ('use', 0.003356064),\n",
       "   ('house', 0.003335674),\n",
       "   ('sure', 0.0033190988),\n",
       "   ('arm', 0.003169132),\n",
       "   ('number', 0.0031624443),\n",
       "   ('deep', 0.0031290539),\n",
       "   ('felt', 0.0030719794),\n",
       "   ('drive', 0.0030468625),\n",
       "   ('goin', 0.0028862867),\n",
       "   ('forty', 0.0028696666),\n",
       "   ('broke', 0.0026579057),\n",
       "   ('million', 0.002650935)])]"
      ]
     },
     "execution_count": 29,
     "metadata": {},
     "output_type": "execute_result"
    }
   ],
   "source": [
    "rerun_model(model1, 5)"
   ]
  },
  {
   "cell_type": "code",
   "execution_count": null,
   "metadata": {},
   "outputs": [],
   "source": [
    "from collections import defaultdict\n",
    "\n",
    "import nltk.corpus\n",
    "import numpy as np\n",
    "import matplotlib.pyplot as plt\n",
    "import itertools\n",
    "\n",
    "from gensim import corpora, models\n",
    "from nltk.corpus import wordnet as wn\n",
    "from operator import itemgetter\n",
    "\n",
    "import sklearn\n",
    "from sklearn import metrics, manifold\n",
    "import scipy\n",
    "from scipy import cluster\n",
    "import matplotlib as mpl \n",
    "import matplotlib.cm as cm\n",
    "from mpl_toolkits.mplot3d import Axes3D\n"
   ]
  },
  {
   "cell_type": "code",
   "execution_count": null,
   "metadata": {},
   "outputs": [],
   "source": []
  },
  {
   "cell_type": "code",
   "execution_count": null,
   "metadata": {},
   "outputs": [],
   "source": []
  },
  {
   "cell_type": "code",
   "execution_count": null,
   "metadata": {},
   "outputs": [],
   "source": []
  }
 ],
 "metadata": {
  "kernelspec": {
   "display_name": "Python 3",
   "language": "python",
   "name": "python3"
  },
  "language_info": {
   "codemirror_mode": {
    "name": "ipython",
    "version": 3
   },
   "file_extension": ".py",
   "mimetype": "text/x-python",
   "name": "python",
   "nbconvert_exporter": "python",
   "pygments_lexer": "ipython3",
   "version": "3.6.9"
  }
 },
 "nbformat": 4,
 "nbformat_minor": 2
}
