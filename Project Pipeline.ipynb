{
 "cells": [
  {
   "cell_type": "markdown",
   "metadata": {},
   "source": [
    "# Project Pipeline"
   ]
  },
  {
   "cell_type": "markdown",
   "metadata": {},
   "source": [
    "Lucovica Schaerf, Antònio Mendes, Jaël Kortekaas"
   ]
  },
  {
   "cell_type": "markdown",
   "metadata": {},
   "source": [
    "Large part of our code is used from: https://www.machinelearningplus.com/nlp/topic-modeling-gensim-python/"
   ]
  },
  {
   "cell_type": "markdown",
   "metadata": {},
   "source": [
    "## Introduction"
   ]
  },
  {
   "cell_type": "markdown",
   "metadata": {},
   "source": [
    "This file contains the the preprocessing pipeline to our project. \n",
    "As a first step we are importing the data and filtering out all the songs that\n",
    "we don't need for our analysis. Secondly, we will implement the 'standard' \n",
    "pipeline and, once we obtain the most common words per each album, author, year\n",
    "(...) we will move to another file to do the clustering and topic analysis."
   ]
  },
  {
   "cell_type": "markdown",
   "metadata": {},
   "source": [
    "## Import"
   ]
  },
  {
   "cell_type": "code",
   "execution_count": 13,
   "metadata": {},
   "outputs": [],
   "source": [
    "from pathlib import Path\n",
    "import numpy as np\n",
    "import pandas as pd\n",
    "\n",
    "from nltk.corpus import stopwords\n",
    "from nltk.tokenize import word_tokenize\n",
    "from nltk.stem import WordNetLemmatizer \n",
    "from nltk.collocations import *\n",
    "from nltk.collocations import BigramAssocMeasures\n",
    "import nltk\n",
    "import re\n",
    "import string\n",
    "import gensim\n",
    "import spacy\n",
    "\n",
    "from gensim import corpora, models\n",
    "from nltk.corpus import wordnet as wn\n",
    "from operator import itemgetter\n",
    "\n",
    "import matplotlib.pyplot as plt\n",
    "\n",
    "plot_dir = Path(\"./figures\")\n",
    "data_dir = Path(\"./data\")"
   ]
  },
  {
   "cell_type": "code",
   "execution_count": 14,
   "metadata": {},
   "outputs": [
    {
     "name": "stdout",
     "output_type": "stream",
     "text": [
      "Index(['index', 'song', 'year', 'artist', 'genre', 'lyrics'], dtype='object')\n"
     ]
    }
   ],
   "source": [
    "songs = []\n",
    "\n",
    "with open('./data/lyrics.csv', 'r', encoding=\"utf-8\") as infile:\n",
    "    songs = pd.read_csv(infile)\n",
    "    \n",
    "print(songs.columns)"
   ]
  },
  {
   "cell_type": "code",
   "execution_count": 15,
   "metadata": {},
   "outputs": [
    {
     "data": {
      "text/html": [
       "<div>\n",
       "<style scoped>\n",
       "    .dataframe tbody tr th:only-of-type {\n",
       "        vertical-align: middle;\n",
       "    }\n",
       "\n",
       "    .dataframe tbody tr th {\n",
       "        vertical-align: top;\n",
       "    }\n",
       "\n",
       "    .dataframe thead th {\n",
       "        text-align: right;\n",
       "    }\n",
       "</style>\n",
       "<table border=\"1\" class=\"dataframe\">\n",
       "  <thead>\n",
       "    <tr style=\"text-align: right;\">\n",
       "      <th></th>\n",
       "      <th>index</th>\n",
       "      <th>song</th>\n",
       "      <th>year</th>\n",
       "      <th>artist</th>\n",
       "      <th>genre</th>\n",
       "      <th>lyrics</th>\n",
       "    </tr>\n",
       "  </thead>\n",
       "  <tbody>\n",
       "    <tr>\n",
       "      <td>116793</td>\n",
       "      <td>116793</td>\n",
       "      <td>if-i-m-dreaming-my-life</td>\n",
       "      <td>2009</td>\n",
       "      <td>david-bowie</td>\n",
       "      <td>Rock</td>\n",
       "      <td>VERSE (there)\\nWas she never there/here?\\nWas ...</td>\n",
       "    </tr>\n",
       "    <tr>\n",
       "      <td>116794</td>\n",
       "      <td>116794</td>\n",
       "      <td>seven</td>\n",
       "      <td>2009</td>\n",
       "      <td>david-bowie</td>\n",
       "      <td>Rock</td>\n",
       "      <td>I forgot what my father said\\nI forgot what he...</td>\n",
       "    </tr>\n",
       "    <tr>\n",
       "      <td>116795</td>\n",
       "      <td>116795</td>\n",
       "      <td>i-can-t-read</td>\n",
       "      <td>2009</td>\n",
       "      <td>david-bowie</td>\n",
       "      <td>Rock</td>\n",
       "      <td>I can't read and I can't write down\\nI don't k...</td>\n",
       "    </tr>\n",
       "    <tr>\n",
       "      <td>116796</td>\n",
       "      <td>116796</td>\n",
       "      <td>thursday-s-child</td>\n",
       "      <td>2009</td>\n",
       "      <td>david-bowie</td>\n",
       "      <td>Rock</td>\n",
       "      <td>All of my life I've tried so hard\\nDoing my be...</td>\n",
       "    </tr>\n",
       "    <tr>\n",
       "      <td>116797</td>\n",
       "      <td>116797</td>\n",
       "      <td>survive</td>\n",
       "      <td>2009</td>\n",
       "      <td>david-bowie</td>\n",
       "      <td>Rock</td>\n",
       "      <td>Oh, my\\nNaked eyes\\nI should have kept you\\nI ...</td>\n",
       "    </tr>\n",
       "    <tr>\n",
       "      <td>...</td>\n",
       "      <td>...</td>\n",
       "      <td>...</td>\n",
       "      <td>...</td>\n",
       "      <td>...</td>\n",
       "      <td>...</td>\n",
       "      <td>...</td>\n",
       "    </tr>\n",
       "    <tr>\n",
       "      <td>67509</td>\n",
       "      <td>67509</td>\n",
       "      <td>child-in-time</td>\n",
       "      <td>1972</td>\n",
       "      <td>deep-purple</td>\n",
       "      <td>Rock</td>\n",
       "      <td>Sweet child in time\\nYou'll see the line\\nThe ...</td>\n",
       "    </tr>\n",
       "    <tr>\n",
       "      <td>67510</td>\n",
       "      <td>67510</td>\n",
       "      <td>deep-purple-overture</td>\n",
       "      <td>2015</td>\n",
       "      <td>deep-purple</td>\n",
       "      <td>Rock</td>\n",
       "      <td>Good golly, said little miss molly\\nWhen she w...</td>\n",
       "    </tr>\n",
       "    <tr>\n",
       "      <td>67517</td>\n",
       "      <td>67517</td>\n",
       "      <td>paint-it-black</td>\n",
       "      <td>2015</td>\n",
       "      <td>deep-purple</td>\n",
       "      <td>Rock</td>\n",
       "      <td>I see a red door and I want it painted black,\\...</td>\n",
       "    </tr>\n",
       "    <tr>\n",
       "      <td>67523</td>\n",
       "      <td>67523</td>\n",
       "      <td>anyone-s-daughter</td>\n",
       "      <td>2014</td>\n",
       "      <td>deep-purple</td>\n",
       "      <td>Rock</td>\n",
       "      <td>Well, I stood under your bedroom window, throw...</td>\n",
       "    </tr>\n",
       "    <tr>\n",
       "      <td>67524</td>\n",
       "      <td>67524</td>\n",
       "      <td>perfect-strangers</td>\n",
       "      <td>2014</td>\n",
       "      <td>deep-purple</td>\n",
       "      <td>Rock</td>\n",
       "      <td>Can you remember remember my name\\nAs I flow t...</td>\n",
       "    </tr>\n",
       "  </tbody>\n",
       "</table>\n",
       "<p>1551 rows × 6 columns</p>\n",
       "</div>"
      ],
      "text/plain": [
       "         index                     song  year       artist genre  \\\n",
       "116793  116793  if-i-m-dreaming-my-life  2009  david-bowie  Rock   \n",
       "116794  116794                    seven  2009  david-bowie  Rock   \n",
       "116795  116795             i-can-t-read  2009  david-bowie  Rock   \n",
       "116796  116796         thursday-s-child  2009  david-bowie  Rock   \n",
       "116797  116797                  survive  2009  david-bowie  Rock   \n",
       "...        ...                      ...   ...          ...   ...   \n",
       "67509    67509            child-in-time  1972  deep-purple  Rock   \n",
       "67510    67510     deep-purple-overture  2015  deep-purple  Rock   \n",
       "67517    67517           paint-it-black  2015  deep-purple  Rock   \n",
       "67523    67523        anyone-s-daughter  2014  deep-purple  Rock   \n",
       "67524    67524        perfect-strangers  2014  deep-purple  Rock   \n",
       "\n",
       "                                                   lyrics  \n",
       "116793  VERSE (there)\\nWas she never there/here?\\nWas ...  \n",
       "116794  I forgot what my father said\\nI forgot what he...  \n",
       "116795  I can't read and I can't write down\\nI don't k...  \n",
       "116796  All of my life I've tried so hard\\nDoing my be...  \n",
       "116797  Oh, my\\nNaked eyes\\nI should have kept you\\nI ...  \n",
       "...                                                   ...  \n",
       "67509   Sweet child in time\\nYou'll see the line\\nThe ...  \n",
       "67510   Good golly, said little miss molly\\nWhen she w...  \n",
       "67517   I see a red door and I want it painted black,\\...  \n",
       "67523   Well, I stood under your bedroom window, throw...  \n",
       "67524   Can you remember remember my name\\nAs I flow t...  \n",
       "\n",
       "[1551 rows x 6 columns]"
      ]
     },
     "execution_count": 15,
     "metadata": {},
     "output_type": "execute_result"
    }
   ],
   "source": [
    "artists = ['bruce-springsteen', 'elliot-smith', 'black-sabbath', 'deep-purple', 'david-bowie']\n",
    "\n",
    "david_bowie = songs[songs[u'artist'] == 'david-bowie']\n",
    "black_sabbath = songs[songs[u'artist'] == 'black-sabbath']\n",
    "bruce_springsteen = songs[songs[u'artist'] == 'bruce-springsteen']\n",
    "elliot_smith = songs[songs[u'artist'] == 'elliot-smith']\n",
    "deep_purple = songs[songs[u'artist'] == 'deep-purple']\n",
    "\n",
    "lyrics = pd.concat([david_bowie, black_sabbath, bruce_springsteen, elliot_smith, deep_purple], axis=0)\n",
    "lyrics = lyrics.dropna()\n",
    "lyrics"
   ]
  },
  {
   "cell_type": "markdown",
   "metadata": {},
   "source": [
    "## Processing Pipeline"
   ]
  },
  {
   "cell_type": "code",
   "execution_count": 16,
   "metadata": {},
   "outputs": [],
   "source": [
    "stop_words = stopwords.words('english')\n",
    "stop_words.extend(['oh', 'yeah', 'hey', 'doo', 'oo', 'uh', 'la', 'verse', 'chorus', 'bridge', 'x2', \"'m\"]) # filter out common meaningless words/sounds and words describing song structure"
   ]
  },
  {
   "cell_type": "markdown",
   "metadata": {},
   "source": [
    "The preprocessing pipeline we decided to implement includes the following steps:\n",
    "- filtering out stopwords, puntuation, sounds typical from songs\n",
    "- lemmatizing\n",
    "- adding the most common bigrams"
   ]
  },
  {
   "cell_type": "code",
   "execution_count": 51,
   "metadata": {
    "scrolled": true
   },
   "outputs": [
    {
     "data": {
      "text/plain": [
       "['wa',\n",
       " 'never',\n",
       " 'there/here',\n",
       " 'wa',\n",
       " 'ever',\n",
       " 'wa',\n",
       " 'air',\n",
       " 'breathed',\n",
       " 'wrong',\n",
       " 'time',\n",
       " 'ohoh',\n",
       " 'ohoh',\n",
       " 'flower',\n",
       " 'gallery',\n",
       " 'hymn',\n",
       " 'night',\n",
       " 'singing',\n",
       " 'come',\n",
       " 'wrong',\n",
       " 'time',\n",
       " 'wrong',\n",
       " 'day',\n",
       " 'light',\n",
       " 'fading',\n",
       " 'dreaming',\n",
       " 'life',\n",
       " 'second',\n",
       " 'time',\n",
       " 'one',\n",
       " 'living',\n",
       " 'chance',\n",
       " 'mother',\n",
       " 'sigh',\n",
       " 'father',\n",
       " 'step',\n",
       " 'aside',\n",
       " 'wrong',\n",
       " 'time',\n",
       " 'ohoh',\n",
       " 'wa',\n",
       " 'ever',\n",
       " 'wa',\n",
       " 'ever',\n",
       " 'dreaming',\n",
       " 'life',\n",
       " 'dreaming',\n",
       " 'life',\n",
       " 'away',\n",
       " 'dreaming',\n",
       " 'life',\n",
       " 'dreaming',\n",
       " 'dreaming',\n",
       " 'dreaming',\n",
       " 'dreaming',\n",
       " 'life',\n",
       " 'dreaming',\n",
       " 'life',\n",
       " 'away',\n",
       " 'ohoh',\n",
       " 'repeat',\n",
       " 'dreaming',\n",
       " 'life',\n",
       " 'dreaming',\n",
       " 'dreaming',\n",
       " 'life',\n",
       " 'away',\n",
       " 'ohoh',\n",
       " 'arefading',\n",
       " 'cometo',\n",
       " 'fadingnow',\n",
       " 'fatherstep',\n",
       " 'flowerso',\n",
       " 'gallerywith',\n",
       " 'hymnof',\n",
       " 'itair',\n",
       " 'justone',\n",
       " 'lightare',\n",
       " 'livingchance',\n",
       " 'mothersigh',\n",
       " 'neverthere/here',\n",
       " 'nightsinging',\n",
       " 'ofnight',\n",
       " 'oneliving',\n",
       " 'singingcome',\n",
       " 'sofrom',\n",
       " 'stepaside',\n",
       " 'tome']"
      ]
     },
     "execution_count": 51,
     "metadata": {},
     "output_type": "execute_result"
    }
   ],
   "source": [
    "wnl = WordNetLemmatizer()\n",
    "bigram_measures = BigramAssocMeasures()\n",
    "\n",
    "def convertTuple(tup): \n",
    "    str =  ''.join(tup) \n",
    "    return str\n",
    "  \n",
    "def simple_preprocess(lyrics, allowed_postags=['NOUN', 'ADJ', 'VERB', 'ADV']):\n",
    "    lyricslist = [re.sub('\\-', '', str(lyric)) for lyric in lyrics['lyrics'].tolist()] # take out all hyphens that often connect meaningless words/sounds to these stopwords can be filtered out later\n",
    "    lyricslist = [re.sub('[\\.\\,\\?,\\!,\\(,\\),\\:,\\\"]', '', str(lyric)) for lyric in lyricslist] # take out all punctuation\n",
    "    lyricslist = [word_tokenize(lyric.lower()) for lyric in lyricslist]\n",
    "    finder = []\n",
    "    for i,lyric in enumerate(lyricslist):\n",
    "        for j,token in enumerate(lyric):\n",
    "            lyricslist[i][j] = wnl.lemmatize(str(token))\n",
    "        lyricslist[i] = [word for word in lyric if word not in stop_words]\n",
    "        finder.append(BigramCollocationFinder.from_words(lyric))\n",
    "        finder[i] = finder[i].nbest(bigram_measures.pmi, 20)\n",
    "        finder[i] = [convertTuple(x) for x in finder[i]] #need to append the two words back together\n",
    "        lyricslist[i] = lyricslist[i] + finder[i]\n",
    "    lyrics['bag_of_words'] = lyricslist\n",
    "\n",
    "\n",
    "simple_preprocess(lyrics)\n",
    "example = lyrics['bag_of_words'][116793]\n",
    "example"
   ]
  },
  {
   "cell_type": "code",
   "execution_count": 53,
   "metadata": {},
   "outputs": [
    {
     "name": "stdout",
     "output_type": "stream",
     "text": [
      "Number of unique tokens: 51\n"
     ]
    }
   ],
   "source": [
    "#count how many times a word appears --> give a document\n",
    "#lyrics['bag_of_words']\n",
    "inaug_dictionary = corpora.Dictionary([example])\n",
    "print('Number of unique tokens:', len(inaug_dictionary))"
   ]
  },
  {
   "cell_type": "code",
   "execution_count": null,
   "metadata": {},
   "outputs": [],
   "source": []
  },
  {
   "cell_type": "code",
   "execution_count": 82,
   "metadata": {},
   "outputs": [],
   "source": []
  },
  {
   "cell_type": "code",
   "execution_count": null,
   "metadata": {},
   "outputs": [],
   "source": []
  },
  {
   "cell_type": "code",
   "execution_count": null,
   "metadata": {},
   "outputs": [],
   "source": []
  }
 ],
 "metadata": {
  "kernelspec": {
   "display_name": "Python 3",
   "language": "python",
   "name": "python3"
  },
  "language_info": {
   "codemirror_mode": {
    "name": "ipython",
    "version": 3
   },
   "file_extension": ".py",
   "mimetype": "text/x-python",
   "name": "python",
   "nbconvert_exporter": "python",
   "pygments_lexer": "ipython3",
   "version": "3.6.9"
  }
 },
 "nbformat": 4,
 "nbformat_minor": 2
}
