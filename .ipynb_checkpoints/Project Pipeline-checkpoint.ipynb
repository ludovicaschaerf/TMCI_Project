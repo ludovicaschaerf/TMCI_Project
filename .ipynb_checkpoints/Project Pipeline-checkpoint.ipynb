{
 "cells": [
  {
   "cell_type": "markdown",
   "metadata": {},
   "source": [
    "# Project Pipeline"
   ]
  },
  {
   "cell_type": "markdown",
   "metadata": {},
   "source": [
    "Lucovica Schaerf, Antònio Mendes, Jaël Kortekaas"
   ]
  },
  {
   "cell_type": "markdown",
   "metadata": {},
   "source": [
    "Large part of our code is used from: https://www.machinelearningplus.com/nlp/topic-modeling-gensim-python/"
   ]
  },
  {
   "cell_type": "markdown",
   "metadata": {},
   "source": [
    "## Introduction"
   ]
  },
  {
   "cell_type": "markdown",
   "metadata": {},
   "source": [
    "This file contains the the preprocessing pipeline to our project. \n",
    "As a first step we are importing the data and filtering out all the songs that\n",
    "we don't need for our analysis. Secondly, we will implement the 'standard' \n",
    "pipeline and, once we obtain the most common words per each album, author, year\n",
    "(...) we will move to another file to do the clustering and topic analysis."
   ]
  },
  {
   "cell_type": "markdown",
   "metadata": {},
   "source": [
    "## Import"
   ]
  },
  {
   "cell_type": "code",
   "execution_count": 8,
   "metadata": {},
   "outputs": [],
   "source": [
    "from pathlib import Path\n",
    "import numpy as np\n",
    "import pandas as pd\n",
    "\n",
    "from nltk.corpus import stopwords\n",
    "from nltk.tokenize import word_tokenize\n",
    "from nltk.stem import WordNetLemmatizer \n",
    "from nltk.collocations import *\n",
    "from nltk.collocations import BigramAssocMeasures\n",
    "import nltk\n",
    "import re\n",
    "import string\n",
    "import gensim\n",
    "import spacy\n",
    "import itertools\n",
    "\n",
    "from gensim import corpora, models\n",
    "from nltk.corpus import wordnet as wn\n",
    "from operator import itemgetter\n",
    "\n",
    "import matplotlib.pyplot as plt\n",
    "\n",
    "plot_dir = Path(\"./figures\")\n",
    "data_dir = Path(\"./data\")"
   ]
  },
  {
   "cell_type": "code",
   "execution_count": 2,
   "metadata": {},
   "outputs": [
    {
     "name": "stdout",
     "output_type": "stream",
     "text": [
      "Index(['index', 'song', 'year', 'artist', 'genre', 'lyrics'], dtype='object')\n"
     ]
    }
   ],
   "source": [
    "songs = []\n",
    "\n",
    "with open('./data/lyrics.csv', 'r', encoding=\"utf-8\") as infile:\n",
    "    songs = pd.read_csv(infile)\n",
    "    \n",
    "print(songs.columns)"
   ]
  },
  {
   "cell_type": "code",
   "execution_count": 3,
   "metadata": {},
   "outputs": [
    {
     "data": {
      "text/html": [
       "<div>\n",
       "<style scoped>\n",
       "    .dataframe tbody tr th:only-of-type {\n",
       "        vertical-align: middle;\n",
       "    }\n",
       "\n",
       "    .dataframe tbody tr th {\n",
       "        vertical-align: top;\n",
       "    }\n",
       "\n",
       "    .dataframe thead th {\n",
       "        text-align: right;\n",
       "    }\n",
       "</style>\n",
       "<table border=\"1\" class=\"dataframe\">\n",
       "  <thead>\n",
       "    <tr style=\"text-align: right;\">\n",
       "      <th></th>\n",
       "      <th>index</th>\n",
       "      <th>song</th>\n",
       "      <th>year</th>\n",
       "      <th>artist</th>\n",
       "      <th>genre</th>\n",
       "      <th>lyrics</th>\n",
       "    </tr>\n",
       "  </thead>\n",
       "  <tbody>\n",
       "    <tr>\n",
       "      <th>116793</th>\n",
       "      <td>116793</td>\n",
       "      <td>if-i-m-dreaming-my-life</td>\n",
       "      <td>2009</td>\n",
       "      <td>david-bowie</td>\n",
       "      <td>Rock</td>\n",
       "      <td>VERSE (there)\\nWas she never there/here?\\nWas ...</td>\n",
       "    </tr>\n",
       "    <tr>\n",
       "      <th>116794</th>\n",
       "      <td>116794</td>\n",
       "      <td>seven</td>\n",
       "      <td>2009</td>\n",
       "      <td>david-bowie</td>\n",
       "      <td>Rock</td>\n",
       "      <td>I forgot what my father said\\nI forgot what he...</td>\n",
       "    </tr>\n",
       "    <tr>\n",
       "      <th>116795</th>\n",
       "      <td>116795</td>\n",
       "      <td>i-can-t-read</td>\n",
       "      <td>2009</td>\n",
       "      <td>david-bowie</td>\n",
       "      <td>Rock</td>\n",
       "      <td>I can't read and I can't write down\\nI don't k...</td>\n",
       "    </tr>\n",
       "    <tr>\n",
       "      <th>116796</th>\n",
       "      <td>116796</td>\n",
       "      <td>thursday-s-child</td>\n",
       "      <td>2009</td>\n",
       "      <td>david-bowie</td>\n",
       "      <td>Rock</td>\n",
       "      <td>All of my life I've tried so hard\\nDoing my be...</td>\n",
       "    </tr>\n",
       "    <tr>\n",
       "      <th>116797</th>\n",
       "      <td>116797</td>\n",
       "      <td>survive</td>\n",
       "      <td>2009</td>\n",
       "      <td>david-bowie</td>\n",
       "      <td>Rock</td>\n",
       "      <td>Oh, my\\nNaked eyes\\nI should have kept you\\nI ...</td>\n",
       "    </tr>\n",
       "    <tr>\n",
       "      <th>...</th>\n",
       "      <td>...</td>\n",
       "      <td>...</td>\n",
       "      <td>...</td>\n",
       "      <td>...</td>\n",
       "      <td>...</td>\n",
       "      <td>...</td>\n",
       "    </tr>\n",
       "    <tr>\n",
       "      <th>67509</th>\n",
       "      <td>67509</td>\n",
       "      <td>child-in-time</td>\n",
       "      <td>1972</td>\n",
       "      <td>deep-purple</td>\n",
       "      <td>Rock</td>\n",
       "      <td>Sweet child in time\\nYou'll see the line\\nThe ...</td>\n",
       "    </tr>\n",
       "    <tr>\n",
       "      <th>67510</th>\n",
       "      <td>67510</td>\n",
       "      <td>deep-purple-overture</td>\n",
       "      <td>2015</td>\n",
       "      <td>deep-purple</td>\n",
       "      <td>Rock</td>\n",
       "      <td>Good golly, said little miss molly\\nWhen she w...</td>\n",
       "    </tr>\n",
       "    <tr>\n",
       "      <th>67517</th>\n",
       "      <td>67517</td>\n",
       "      <td>paint-it-black</td>\n",
       "      <td>2015</td>\n",
       "      <td>deep-purple</td>\n",
       "      <td>Rock</td>\n",
       "      <td>I see a red door and I want it painted black,\\...</td>\n",
       "    </tr>\n",
       "    <tr>\n",
       "      <th>67523</th>\n",
       "      <td>67523</td>\n",
       "      <td>anyone-s-daughter</td>\n",
       "      <td>2014</td>\n",
       "      <td>deep-purple</td>\n",
       "      <td>Rock</td>\n",
       "      <td>Well, I stood under your bedroom window, throw...</td>\n",
       "    </tr>\n",
       "    <tr>\n",
       "      <th>67524</th>\n",
       "      <td>67524</td>\n",
       "      <td>perfect-strangers</td>\n",
       "      <td>2014</td>\n",
       "      <td>deep-purple</td>\n",
       "      <td>Rock</td>\n",
       "      <td>Can you remember remember my name\\nAs I flow t...</td>\n",
       "    </tr>\n",
       "  </tbody>\n",
       "</table>\n",
       "<p>1551 rows × 6 columns</p>\n",
       "</div>"
      ],
      "text/plain": [
       "         index                     song  year       artist genre  \\\n",
       "116793  116793  if-i-m-dreaming-my-life  2009  david-bowie  Rock   \n",
       "116794  116794                    seven  2009  david-bowie  Rock   \n",
       "116795  116795             i-can-t-read  2009  david-bowie  Rock   \n",
       "116796  116796         thursday-s-child  2009  david-bowie  Rock   \n",
       "116797  116797                  survive  2009  david-bowie  Rock   \n",
       "...        ...                      ...   ...          ...   ...   \n",
       "67509    67509            child-in-time  1972  deep-purple  Rock   \n",
       "67510    67510     deep-purple-overture  2015  deep-purple  Rock   \n",
       "67517    67517           paint-it-black  2015  deep-purple  Rock   \n",
       "67523    67523        anyone-s-daughter  2014  deep-purple  Rock   \n",
       "67524    67524        perfect-strangers  2014  deep-purple  Rock   \n",
       "\n",
       "                                                   lyrics  \n",
       "116793  VERSE (there)\\nWas she never there/here?\\nWas ...  \n",
       "116794  I forgot what my father said\\nI forgot what he...  \n",
       "116795  I can't read and I can't write down\\nI don't k...  \n",
       "116796  All of my life I've tried so hard\\nDoing my be...  \n",
       "116797  Oh, my\\nNaked eyes\\nI should have kept you\\nI ...  \n",
       "...                                                   ...  \n",
       "67509   Sweet child in time\\nYou'll see the line\\nThe ...  \n",
       "67510   Good golly, said little miss molly\\nWhen she w...  \n",
       "67517   I see a red door and I want it painted black,\\...  \n",
       "67523   Well, I stood under your bedroom window, throw...  \n",
       "67524   Can you remember remember my name\\nAs I flow t...  \n",
       "\n",
       "[1551 rows x 6 columns]"
      ]
     },
     "execution_count": 3,
     "metadata": {},
     "output_type": "execute_result"
    }
   ],
   "source": [
    "artists = ['bruce-springsteen', 'elliot-smith', 'black-sabbath', 'deep-purple', 'david-bowie']\n",
    "\n",
    "david_bowie = songs[songs[u'artist'] == 'david-bowie']\n",
    "black_sabbath = songs[songs[u'artist'] == 'black-sabbath']\n",
    "bruce_springsteen = songs[songs[u'artist'] == 'bruce-springsteen']\n",
    "elliot_smith = songs[songs[u'artist'] == 'elliot-smith']\n",
    "deep_purple = songs[songs[u'artist'] == 'deep-purple']\n",
    "\n",
    "lyrics = pd.concat([david_bowie, black_sabbath, bruce_springsteen, elliot_smith, deep_purple], axis=0)\n",
    "lyrics = lyrics.dropna()\n",
    "lyrics"
   ]
  },
  {
   "cell_type": "markdown",
   "metadata": {},
   "source": [
    "## Processing Pipeline"
   ]
  },
  {
   "cell_type": "code",
   "execution_count": 103,
   "metadata": {},
   "outputs": [],
   "source": [
    "stop_words = stopwords.words('english')\n",
    "stop_words.extend(['oh', 'yeah', 'hey', 'doo', 'oo', 'uh', 'la', 'verse', 'chorus', 'bridge', 'x2', \"'m\", 'da', 'ooh', 'aaaahh', 'ooo', 'duh', 'whop', 'u', 'ah', 'na', 'whoa', 'ai', \"n't\", 'wa', 'gon', \"'ll\", 'gon', \"'d\", \"'re\", \"'ve\", \"'em\", \"'\", 'ca', 'ha', 'wo', 'wir', 'wan', 'doe', 'well', 'sha', 'ya', 'ta', \"'cause\", \"`\"]) # filter out common meaningless words/sounds and words describing song structure"
   ]
  },
  {
   "cell_type": "markdown",
   "metadata": {},
   "source": [
    "The preprocessing pipeline we decided to implement includes the following steps:\n",
    "- filtering out stopwords, puntuation, sounds typical from songs\n",
    "- lemmatizing\n",
    "- adding the most common bigrams"
   ]
  },
  {
   "cell_type": "code",
   "execution_count": 104,
   "metadata": {
    "scrolled": true
   },
   "outputs": [
    {
     "data": {
      "text/plain": [
       "['never',\n",
       " 'there/here',\n",
       " 'ever',\n",
       " 'air',\n",
       " 'breathed',\n",
       " 'wrong',\n",
       " 'time',\n",
       " 'ohoh',\n",
       " 'ohoh',\n",
       " 'flower',\n",
       " 'gallery',\n",
       " 'hymn',\n",
       " 'night',\n",
       " 'singing',\n",
       " 'come',\n",
       " 'wrong',\n",
       " 'time',\n",
       " 'wrong',\n",
       " 'day',\n",
       " 'light',\n",
       " 'fading',\n",
       " 'dreaming',\n",
       " 'life',\n",
       " 'second',\n",
       " 'time',\n",
       " 'one',\n",
       " 'living',\n",
       " 'chance',\n",
       " 'mother',\n",
       " 'sigh',\n",
       " 'father',\n",
       " 'step',\n",
       " 'aside',\n",
       " 'wrong',\n",
       " 'time',\n",
       " 'ohoh',\n",
       " 'ever',\n",
       " 'ever',\n",
       " 'dreaming',\n",
       " 'life',\n",
       " 'dreaming',\n",
       " 'life',\n",
       " 'away',\n",
       " 'dreaming',\n",
       " 'life',\n",
       " 'dreaming',\n",
       " 'dreaming',\n",
       " 'dreaming',\n",
       " 'dreaming',\n",
       " 'life',\n",
       " 'dreaming',\n",
       " 'life',\n",
       " 'away',\n",
       " 'ohoh',\n",
       " 'repeat',\n",
       " 'dreaming',\n",
       " 'life',\n",
       " 'dreaming',\n",
       " 'dreaming',\n",
       " 'life',\n",
       " 'away',\n",
       " 'ohoh',\n",
       " 'are_fading',\n",
       " 'come_to',\n",
       " 'fading_now',\n",
       " 'father_step',\n",
       " 'flower_so',\n",
       " 'gallery_with',\n",
       " 'hymn_of',\n",
       " 'it_air',\n",
       " 'just_one',\n",
       " 'light_are',\n",
       " 'living_chance',\n",
       " 'mother_sigh',\n",
       " 'never_there/here',\n",
       " 'night_singing',\n",
       " 'of_night',\n",
       " 'one_living',\n",
       " 'singing_come',\n",
       " 'so_from',\n",
       " 'step_aside',\n",
       " 'to_me']"
      ]
     },
     "execution_count": 104,
     "metadata": {},
     "output_type": "execute_result"
    }
   ],
   "source": [
    "wnl = WordNetLemmatizer()\n",
    "bigram_measures = BigramAssocMeasures()\n",
    "\n",
    "def convertTuple(tup): \n",
    "    str =  '_'.join(tup) \n",
    "    return str\n",
    "  \n",
    "def simple_preprocess(lyrics, allowed_postags=['NOUN', 'ADJ', 'VERB', 'ADV']):\n",
    "    lyricslist = [re.sub('\\-', '', str(lyric)) for lyric in lyrics['lyrics'].tolist()] # take out all hyphens that often connect meaningless words/sounds to these stopwords can be filtered out later\n",
    "    lyricslist = [re.sub('[\\.\\,\\?,\\!,\\(,\\),\\:,\\\",\\[,\\]]', '', str(lyric)) for lyric in lyricslist] # take out all punctuation\n",
    "    lyricslist = [word_tokenize(lyric.lower()) for lyric in lyricslist]\n",
    "    finder = []\n",
    "    for i,lyric in enumerate(lyricslist):\n",
    "        for j,token in enumerate(lyric):\n",
    "            lyricslist[i][j] = wnl.lemmatize(str(token))\n",
    "        lyricslist[i] = [word for word in lyric if word not in stop_words]\n",
    "        finder.append(BigramCollocationFinder.from_words(lyric))\n",
    "        finder[i] = finder[i].nbest(bigram_measures.pmi, 20)\n",
    "        finder[i] = [convertTuple(x) for x in finder[i]] #need to append the two words back together\n",
    "        lyricslist[i] = lyricslist[i] + finder[i]\n",
    "    lyrics['bag_of_words'] = lyricslist\n",
    "\n",
    "\n",
    "simple_preprocess(lyrics)\n",
    "example = lyrics['bag_of_words'][116793]\n",
    "example"
   ]
  },
  {
   "cell_type": "code",
   "execution_count": 105,
   "metadata": {},
   "outputs": [
    {
     "name": "stdout",
     "output_type": "stream",
     "text": [
      "Number of unique tokens: 31161\n"
     ]
    }
   ],
   "source": [
    "#count how many times a word appears --> give a document\n",
    "#lyrics['bag_of_words']\n",
    "\n",
    "list_BOWlyrics = [[]]\n",
    "for lyric in lyrics['bag_of_words']:\n",
    "    list_BOWlyrics += [lyric]\n",
    "\n",
    "lyrics_dictionary = corpora.Dictionary(list_BOWlyrics)\n",
    "print('Number of unique tokens:', len(lyrics_dictionary))"
   ]
  },
  {
   "cell_type": "code",
   "execution_count": 106,
   "metadata": {},
   "outputs": [
    {
     "name": "stdout",
     "output_type": "stream",
     "text": [
      "{'air': 0, 'are_fading': 1, 'aside': 2, 'away': 3, 'breathed': 4, 'chance': 5, 'come': 6, 'come_to': 7, 'day': 8, 'dreaming': 9, 'ever': 10, 'fading': 11}\n",
      "word with id 8: day\n",
      "frequency of token 8: 415\n"
     ]
    }
   ],
   "source": [
    "print(dict(itertools.islice(lyrics_dictionary.token2id.items(), 12)))\n",
    "print(\"word with id 8:\", lyrics_dictionary[8])\n",
    "print(\"frequency of token 8:\", lyrics_dictionary.dfs[8])"
   ]
  },
  {
   "cell_type": "code",
   "execution_count": 119,
   "metadata": {},
   "outputs": [
    {
     "name": "stdout",
     "output_type": "stream",
     "text": [
      "Number of unique tokens: 10535\n"
     ]
    }
   ],
   "source": [
    "# Filter out words that occur in less than 5 documents, or more than 70% of the documents.\n",
    "lyrics_dictionary.filter_extremes(no_below=2, no_above=0.3)\n",
    "print('Number of unique tokens:', len(lyrics_dictionary))"
   ]
  },
  {
   "cell_type": "code",
   "execution_count": 120,
   "metadata": {},
   "outputs": [],
   "source": [
    "# Bag-of-words representation of the documents\n",
    "lyrics_bow_corpus = [lyrics_dictionary.doc2bow(d) for d in list_BOWlyrics]"
   ]
  },
  {
   "cell_type": "code",
   "execution_count": 121,
   "metadata": {},
   "outputs": [
    {
     "name": "stdout",
     "output_type": "stream",
     "text": [
      "[(0, 1), (1, 1), (2, 1), (3, 1), (4, 1), (5, 12), (6, 3), (7, 1), (8, 1), (9, 1), (10, 1), (11, 1), (12, 1), (13, 1), (14, 1), (15, 1), (16, 1), (17, 1), (18, 1), (19, 1), (20, 1), (21, 1), (22, 1), (23, 1), (24, 4)]\n"
     ]
    }
   ],
   "source": [
    "# the BOW representation of the first document\n",
    "print(lyrics_bow_corpus[1][:50])"
   ]
  },
  {
   "cell_type": "code",
   "execution_count": 122,
   "metadata": {},
   "outputs": [
    {
     "name": "stdout",
     "output_type": "stream",
     "text": [
      "dreaming --> 12\n",
      "wrong --> 4\n",
      "ever --> 3\n",
      "air --> 1\n",
      "aside --> 1\n",
      "breathed --> 1\n",
      "chance --> 1\n",
      "come_to --> 1\n",
      "fading --> 1\n",
      "father --> 1\n",
      "flower --> 1\n",
      "gallery --> 1\n",
      "hymn --> 1\n",
      "just_one --> 1\n",
      "light --> 1\n",
      "...\n"
     ]
    }
   ],
   "source": [
    "# which words (and how often) appear in the first document?\n",
    "for i, freq in sorted(lyrics_bow_corpus[1], key=itemgetter(1), reverse=True)[:15]:\n",
    "    print(lyrics_dictionary[i], \"-->\", freq)\n",
    "print(\"...\")"
   ]
  },
  {
   "cell_type": "code",
   "execution_count": 125,
   "metadata": {},
   "outputs": [],
   "source": [
    "lyrics_ldamodel = models.ldamodel.LdaModel(lyrics_bow_corpus, num_topics=10, id2word = lyrics_dictionary, passes=25)"
   ]
  },
  {
   "cell_type": "code",
   "execution_count": 126,
   "metadata": {
    "scrolled": false
   },
   "outputs": [
    {
     "data": {
      "text/plain": [
       "[(0,\n",
       "  [('let', 0.019680077),\n",
       "   ('dance', 0.017154649),\n",
       "   ('girl', 0.012062525),\n",
       "   ('magic', 0.008794008),\n",
       "   ('boy', 0.007998726),\n",
       "   ('little', 0.0072114696),\n",
       "   ('rain', 0.006208003),\n",
       "   ('place', 0.005792292),\n",
       "   ('meet', 0.0053808666),\n",
       "   ('tell', 0.005313794),\n",
       "   ('city', 0.005064073),\n",
       "   ('looking', 0.005039941),\n",
       "   ('must', 0.004948979),\n",
       "   ('tonight', 0.004776683),\n",
       "   ('alone', 0.0047081215)]),\n",
       " (1,\n",
       "  [('give', 0.0151676405),\n",
       "   ('nothing', 0.011961877),\n",
       "   ('need', 0.009305296),\n",
       "   ('train', 0.008432616),\n",
       "   ('everything', 0.0076714857),\n",
       "   ('going', 0.007545199),\n",
       "   ('line', 0.0073281615),\n",
       "   ('people', 0.0064557586),\n",
       "   ('change', 0.006442997),\n",
       "   ('saw', 0.0062909178),\n",
       "   ('keep', 0.006243933),\n",
       "   ('world', 0.0060710395),\n",
       "   ('running', 0.0060199574),\n",
       "   ('hold', 0.005984447),\n",
       "   ('said', 0.005669544)]),\n",
       " (2,\n",
       "  [('hand', 0.016076788),\n",
       "   ('raise', 0.008097076),\n",
       "   ('city', 0.006241151),\n",
       "   ('turn', 0.0059308964),\n",
       "   ('going', 0.0054210424),\n",
       "   ('people', 0.00539631),\n",
       "   ('star', 0.0049876734),\n",
       "   ('fall', 0.004968283),\n",
       "   ('jesse', 0.0049131736),\n",
       "   ('mind', 0.0047629774),\n",
       "   ('head', 0.0046761045),\n",
       "   ('something', 0.0045663263),\n",
       "   ('heaven', 0.0045152074),\n",
       "   ('late', 0.004382494),\n",
       "   ('dancing', 0.0043600476)]),\n",
       " (3,\n",
       "  [('god', 0.01568929),\n",
       "   ('woman', 0.012827826),\n",
       "   ('boy', 0.011113057),\n",
       "   ('modern', 0.010660523),\n",
       "   ('bye', 0.008027337),\n",
       "   ('angel', 0.007687041),\n",
       "   ('play', 0.0062972615),\n",
       "   ('ba', 0.0062557543),\n",
       "   ('good', 0.005269999),\n",
       "   ('evil', 0.0051336098),\n",
       "   ('death', 0.005111825),\n",
       "   ('game', 0.004873768),\n",
       "   ('believe', 0.0046749604),\n",
       "   ('power', 0.0046477774),\n",
       "   ('head', 0.0042839684)]),\n",
       " (4,\n",
       "  [('fame', 0.012192983),\n",
       "   ('heart', 0.007932086),\n",
       "   ('around', 0.0063482085),\n",
       "   ('everything', 0.005767011),\n",
       "   ('going', 0.00511839),\n",
       "   ('ever', 0.005088223),\n",
       "   ('better', 0.0049285954),\n",
       "   ('real', 0.004914185),\n",
       "   ('song', 0.0046670837),\n",
       "   ('born', 0.0044261264),\n",
       "   ('look', 0.0040424685),\n",
       "   ('town', 0.0039733415),\n",
       "   ('care', 0.003966533),\n",
       "   ('made', 0.0039440715),\n",
       "   ('lose', 0.0039107366)]),\n",
       " (5,\n",
       "  [('light', 0.008329605),\n",
       "   ('town', 0.0071506733),\n",
       "   ('better', 0.006305438),\n",
       "   ('world', 0.0061741774),\n",
       "   ('white', 0.0059490656),\n",
       "   ('coming', 0.005710768),\n",
       "   ('tonight', 0.0055343932),\n",
       "   ('said', 0.005048363),\n",
       "   ('right', 0.004367123),\n",
       "   ('little', 0.0042739143),\n",
       "   ('heart', 0.0041902317),\n",
       "   ('ho', 0.004177113),\n",
       "   ('long', 0.0039596097),\n",
       "   ('another', 0.003943811),\n",
       "   ('home', 0.0034354862)]),\n",
       " (6,\n",
       "  [('girl', 0.018583423),\n",
       "   ('little', 0.013560417),\n",
       "   ('bring', 0.010173692),\n",
       "   ('home', 0.0092168),\n",
       "   ('heart', 0.008580015),\n",
       "   ('dream', 0.008366575),\n",
       "   ('street', 0.0075058388),\n",
       "   ('live', 0.007417605),\n",
       "   ('alright', 0.007235874),\n",
       "   ('year', 0.007116532),\n",
       "   ('look', 0.006539055),\n",
       "   ('underground', 0.005302306),\n",
       "   ('right', 0.0052889194),\n",
       "   ('pretty', 0.0052058995),\n",
       "   ('need', 0.0050498117)]),\n",
       " (7,\n",
       "  [('long', 0.018168824),\n",
       "   ('right', 0.010098401),\n",
       "   ('shot', 0.009366178),\n",
       "   ('secret', 0.008097313),\n",
       "   ('mary', 0.006735896),\n",
       "   ('light', 0.0061769863),\n",
       "   ('five', 0.0056696967),\n",
       "   ('shine', 0.0056037046),\n",
       "   ('fire', 0.0053697033),\n",
       "   ('cry', 0.0052408786),\n",
       "   ('weep', 0.0051904917),\n",
       "   ('41', 0.0047677886),\n",
       "   ('really', 0.004701535),\n",
       "   ('heart', 0.004293368),\n",
       "   ('walk', 0.004253623)]),\n",
       " (8,\n",
       "  [('sex', 0.007160931),\n",
       "   ('young', 0.00698347),\n",
       "   ('name', 0.0062590754),\n",
       "   ('keep', 0.0056114933),\n",
       "   ('little', 0.0054540485),\n",
       "   ('church', 0.005104172),\n",
       "   ('let', 0.0049608927),\n",
       "   ('run', 0.004791103),\n",
       "   ('need', 0.0047252015),\n",
       "   ('together', 0.004515314),\n",
       "   ('heart', 0.0041163536),\n",
       "   ('nothing', 0.0040611755),\n",
       "   ('big', 0.0040337904),\n",
       "   ('around', 0.003913353),\n",
       "   ('face', 0.0038424877)]),\n",
       " (9,\n",
       "  [('dream', 0.009732721),\n",
       "   ('sky', 0.008979561),\n",
       "   ('world', 0.008139237),\n",
       "   ('hand', 0.0073885336),\n",
       "   ('pay', 0.0069694216),\n",
       "   ('somebody', 0.006792067),\n",
       "   ('let', 0.0066840556),\n",
       "   ('little', 0.006627779),\n",
       "   ('may', 0.005493657),\n",
       "   ('find', 0.0054653236),\n",
       "   ('wind', 0.004779325),\n",
       "   ('matter', 0.0047652978),\n",
       "   ('look', 0.0046771327),\n",
       "   ('free', 0.004577791),\n",
       "   ('black', 0.0045105503)])]"
      ]
     },
     "execution_count": 126,
     "metadata": {},
     "output_type": "execute_result"
    }
   ],
   "source": [
    "# the setting formatted=False allows you to get rid of the word*probability format when retrieveing topics\n",
    "lyrics_ldamodel.show_topics(formatted=False, num_words=15)"
   ]
  },
  {
   "cell_type": "code",
   "execution_count": null,
   "metadata": {},
   "outputs": [],
   "source": []
  },
  {
   "cell_type": "code",
   "execution_count": null,
   "metadata": {},
   "outputs": [],
   "source": [
    "from collections import defaultdict\n",
    "\n",
    "import nltk.corpus\n",
    "import numpy as np\n",
    "import matplotlib.pyplot as plt\n",
    "import itertools\n",
    "\n",
    "from gensim import corpora, models\n",
    "from nltk.corpus import wordnet as wn\n",
    "from operator import itemgetter\n",
    "\n",
    "import sklearn\n",
    "from sklearn import metrics, manifold\n",
    "import scipy\n",
    "from scipy import cluster\n",
    "import matplotlib as mpl \n",
    "import matplotlib.cm as cm\n",
    "from mpl_toolkits.mplot3d import Axes3D\n"
   ]
  },
  {
   "cell_type": "code",
   "execution_count": null,
   "metadata": {},
   "outputs": [],
   "source": []
  },
  {
   "cell_type": "code",
   "execution_count": null,
   "metadata": {},
   "outputs": [],
   "source": []
  },
  {
   "cell_type": "code",
   "execution_count": null,
   "metadata": {},
   "outputs": [],
   "source": []
  }
 ],
 "metadata": {
  "kernelspec": {
   "display_name": "Python 3",
   "language": "python",
   "name": "python3"
  },
  "language_info": {
   "codemirror_mode": {
    "name": "ipython",
    "version": 3
   },
   "file_extension": ".py",
   "mimetype": "text/x-python",
   "name": "python",
   "nbconvert_exporter": "python",
   "pygments_lexer": "ipython3",
   "version": "3.6.9"
  }
 },
 "nbformat": 4,
 "nbformat_minor": 2
}
